{
 "cells": [
  {
   "cell_type": "markdown",
   "metadata": {},
   "source": [
    "## Student Information\n",
    "Name:    \n",
    "Student ID:     \n",
    "GitHub:    "
   ]
  },
  {
   "cell_type": "markdown",
   "metadata": {},
   "source": [
    "---"
   ]
  },
  {
   "cell_type": "markdown",
   "metadata": {},
   "source": [
    "## Instructions\n",
    "\n",
    "In order to learn more and get some inspiration for your final project, we increase the level of homework this year.\n",
    "\n",
    "There are two different parts in this assignment, please use `jupyter notebook` to edit it. Explain your code and thought with comments and Markdown block. Besides, we hope you can practice to maintain the readability of your own notebook. \n",
    "\n",
    "For students who aren't familiar with Python, we strongly encourage you to discuss with each other. However, <font color=red> copy-paste is strictly  prohibited.</font> You need to absorb and rearrange the idea to help yourself complete the homework.\n",
    "\n",
    "\n"
   ]
  },
  {
   "cell_type": "markdown",
   "metadata": {},
   "source": [
    "## Details\n",
    "\n",
    "### Basic Part (70%)\n",
    "\n",
    "- First, you have to setup your work environment completely. Make sure you can run all the code in our [first lab session](https://github.com/omarsar/data_mining_lab/blob/master/news_data_mining.ipynb). If you have some environment problem, try to ask on ilms or our Slack channels with more detials about your problem and error message. (avoid using email, plz)  \n",
    "  \n",
    "  \n",
    "- And, you have to learn how to use GitHub. Because it's a very important tool that helps many programers coding together, and you have to use it to submit your assignment. You don't need to learn every details about GitHub, but have to know about `clone`, `add`, `commit`, `push`, `pull`, `PR` at least. By the way, you can go to get your GitHub Education package [here](https://education.github.com/pack).  \n",
    "  \n",
    "   \n",
    "- The coding part, you have to review the techniques we learned in the [first lab session](https://github.com/omarsar/data_mining_lab/blob/master/news_data_mining.ipynb), and attempt the **exercises** provided in it. There are total sixteen (16) exercises; attempt them all! And rearrange all of them in this notebook with the most readable way you think.\n",
    "\n",
    "\n",
    "### Advanced Part (40%) \n",
    "\n",
    "- In this part, we are going to use a new dataset. You can download the dataset provided in this [link](https://archive.ics.uci.edu/ml/datasets/Sentiment+Labelled+Sentences#). The sentiment dataset contains a `sentence` and `score` label. Read what the dataset is about on the link provided before you start exploring it.   \n",
    "    \n",
    "    \n",
    "- You are expected not only to tidy up your notebook and make new data operations that you have learned so far in the Data Mining course, but also to **attempt some new tasks** to surprise us! This segment is worth 40% of your grades and would be much helpful to your final project!       \n",
    "      \n",
    "      \n",
    "- Here are some examples for your reference:\n",
    "    1. Use your creativity to make more data visualization. (not limited in `Matplotlib` & `Seaborn`,and can try on `Plotly` library)\n",
    "    2. Use Bag-of-words/TF-IDF to embedding sentences, and compare the result.\n",
    "    3. Calculate the distance/similarity of each sentence, take examples and give some discussion.\n",
    "    4. Try to do some classification or clustering based on your processed data.  \n",
    "       You can find many algorithms in [sklearn](http://scikit-learn.org/stable/user_guide.html), and we recommend you could try on: [Logistic Regression](http://scikit-learn.org/stable/modules/generated/sklearn.linear_model.LogisticRegression.html), [Decision Tree](http://scikit-learn.org/stable/modules/generated/sklearn.tree.DecisionTreeClassifier.html), [Naive Bayes](http://scikit-learn.org/stable/modules/generated/sklearn.naive_bayes.GaussianNB.html), [KMeans](http://scikit-learn.org/stable/modules/generated/sklearn.cluster.KMeans.html).\n",
    "    5. Any other interesting ideas!\n",
    "\n",
    "  \n",
    "- If you are stuck at the beginning, you could try the data exploration and data operation techniques learned in the [first lab session](https://github.com/omarsar/data_mining_lab/blob/master/news_data_mining.ipynb). <font color=green >However, only use the techniques in we mention in lab ssesion can't get more than 10%.</font>  \n",
    "  \n",
    "\n",
    "### Note\n",
    "\n",
    "- You don't need to explain all the procedures as we did in the notebook, but you are expected to provide some **minimal comments** explaining your code. You are also expected to use the same libraries used in the first lab session. You are allowed to use and modify the `helper` functions we provided in the first lab session or create your own. Also, be aware that the helper functions may need modification as you are dealing with a completely different dataset.\n",
    "\n",
    "### Deadline\n",
    "\n",
    "We postpone the deadline to 2018/10/29 23:59:59.\n",
    "\n",
    "### Submit Assignment\n",
    "After completing all the above tasks, please submit your assignment following the guide provided in the `README.md` file of the assignment's [repository](https://github.com/omarsar/data_mining_hw_1). \n",
    "\n",
    "---"
   ]
  },
  {
   "cell_type": "code",
   "execution_count": null,
   "metadata": {},
   "outputs": [],
   "source": []
  },
  {
   "cell_type": "code",
   "execution_count": null,
   "metadata": {},
   "outputs": [],
   "source": []
  },
  {
   "cell_type": "code",
   "execution_count": null,
   "metadata": {
    "collapsed": true
   },
   "outputs": [],
   "source": []
  }
 ],
 "metadata": {
  "anaconda-cloud": {},
  "kernelspec": {
   "display_name": "Python 3",
   "language": "python",
   "name": "python3"
  },
  "language_info": {
   "codemirror_mode": {
    "name": "ipython",
    "version": 3
   },
   "file_extension": ".py",
   "mimetype": "text/x-python",
   "name": "python",
   "nbconvert_exporter": "python",
   "pygments_lexer": "ipython3",
   "version": "3.6.5"
  }
 },
 "nbformat": 4,
 "nbformat_minor": 2
}
